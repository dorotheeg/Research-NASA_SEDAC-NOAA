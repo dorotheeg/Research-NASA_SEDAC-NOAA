{
 "cells": [
  {
   "cell_type": "markdown",
   "metadata": {},
   "source": [
    "# Linear regression of luminocity and population density GHS data"
   ]
  },
  {
   "cell_type": "markdown",
   "metadata": {},
   "source": [
    "### 1k resolution with 2015 Agg NTL data and GHS pop den data"
   ]
  },
  {
   "cell_type": "code",
   "execution_count": 36,
   "metadata": {},
   "outputs": [],
   "source": [
    "from numpy import array\n",
    "from keras.models import Sequential\n",
    "from keras.layers import Dense\n",
    "from keras.layers import Flatten\n",
    "from keras.layers.convolutional import Conv1D\n",
    "from keras.layers.convolutional import MaxPooling1D\n",
    "\n",
    "import gdal\n",
    "from osgeo import gdal\n",
    "from rasterio.plot import show\n",
    "from osgeo import gdal_array\n",
    "import sys\n",
    "import os\n",
    "import glob\n",
    "from matplotlib import pyplot as plt\n",
    "import numpy as np\n",
    "\n",
    "from sklearn.linear_model import LinearRegression\n",
    "from scipy import stats"
   ]
  },
  {
   "cell_type": "code",
   "execution_count": 43,
   "metadata": {
    "scrolled": true
   },
   "outputs": [
    {
     "name": "stdout",
     "output_type": "stream",
     "text": [
      "0.0\n",
      "[0. 0. 0. ... 0. 0. 0.]\n",
      "[0. 0. 0. ... 0. 0. 0.]\n",
      "each pixel of the same area for all the days\n",
      "16256\n",
      "16256\n",
      "coefficient of determination: 0.809821752937064\n",
      "intercept: 0.30895126\n",
      "slope: [1.9848014]\n",
      "intercept: [0.30895126]\n",
      "slope: [[1.9848014]]\n",
      "predicted response:\n",
      "[0.30895126 0.30895126 0.30895126 ... 0.30895126 0.30895126 0.30895126]\n",
      "predicted response:\n",
      "[[0.30895126]\n",
      " [0.30895126]\n",
      " [0.30895126]\n",
      " ...\n",
      " [0.30895126]\n",
      " [0.30895126]\n",
      " [0.30895126]]\n",
      "[[0]\n",
      " [1]\n",
      " [2]\n",
      " [3]\n",
      " [4]]\n",
      "[0.30895126 2.29375267 4.27855408 6.26335549 8.24815691]\n"
     ]
    },
    {
     "data": {
      "image/png": "[encoded data removed]",
      "text/plain": [
       "<Figure size 432x288 with 1 Axes>"
      ]
     },
     "metadata": {
      "needs_background": "light"
     },
     "output_type": "display_data"
    }
   ],
   "source": [
    "\n",
    "test= gdal_array.LoadFile(r'\\\\DATASERVER1\\GADdata$\\dgrant\\Documents\\ArcGIS\\Projects\\TestingMyProject\\Mexico\\clipped_raw\\2015\\log10_Agg_2015_B1.tif')\n",
    "test = test.flatten()\n",
    "test = np.where(test < -3.4028235, 0., test)\n",
    "print(test[0])\n",
    "print(test)\n",
    "                                                     \n",
    "ghs= gdal_array.LoadFile(r'\\\\DATASERVER1\\GADdata$\\dgrant\\Documents\\ArcGIS\\Projects\\TestingMyProject\\Mexico\\clipped_raw\\2015\\log10_GHS1.tif')\n",
    "ghs = ghs.flatten()\n",
    "ghs = np.where(ghs < -3.4028235, 0., ghs)\n",
    "print(ghs)\n",
    "print(\"each pixel of the same area for all the days\")\n",
    "\n",
    "print(len(test))\n",
    "print(len(ghs))\n",
    "\n",
    "\n",
    "x = np.array(test).reshape((-1, 1))\n",
    "y = np.array(ghs)\n",
    "\n",
    "model = LinearRegression()\n",
    "model.fit(x, y)\n",
    "model = LinearRegression().fit(x, y)\n",
    "r_sq = model.score(x, y)\n",
    "print('coefficient of determination:', r_sq)\n",
    "\n",
    "print('intercept:', model.intercept_)\n",
    "\n",
    "print('slope:', model.coef_)\n",
    "\n",
    "new_model = LinearRegression().fit(x, y.reshape((-1, 1)))\n",
    "print('intercept:', new_model.intercept_)\n",
    "\n",
    "print('slope:', new_model.coef_)\n",
    "\n",
    "y_pred = model.predict(x)\n",
    "print('predicted response:', y_pred, sep='\\n')\n",
    "\n",
    "y_pred = model.intercept_ + model.coef_ * x\n",
    "print('predicted response:', y_pred, sep='\\n')\n",
    "\n",
    "x_new = np.arange(5).reshape((-1, 1))\n",
    "print(x_new)\n",
    "\n",
    "y_new = model.predict(x_new)\n",
    "print(y_new)\n",
    "\n",
    "plt.scatter(y,x)\n",
    "#plt.plot(np.unique(ghs), np.poly1d(np.polyfit(ghs, test, 1))(np.unique(ghs)))\n",
    "plt.show()\n"
   ]
  },
  {
   "cell_type": "code",
   "execution_count": null,
   "metadata": {},
   "outputs": [],
   "source": []
  }
 ],
 "metadata": {
  "kernelspec": {
   "display_name": "Python 3",
   "language": "python",
   "name": "python3"
  },
  "language_info": {
   "codemirror_mode": {
    "name": "ipython",
    "version": 3
   },
   "file_extension": ".py",
   "mimetype": "text/x-python",
   "name": "python",
   "nbconvert_exporter": "python",
   "pygments_lexer": "ipython3",
   "version": "3.7.3"
  }
 },
 "nbformat": 4,
 "nbformat_minor": 2
}
